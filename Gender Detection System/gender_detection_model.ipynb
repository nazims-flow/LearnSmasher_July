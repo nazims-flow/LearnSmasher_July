{
 "cells": [
  {
   "cell_type": "code",
   "execution_count": 1,
   "id": "ccf086a9",
   "metadata": {},
   "outputs": [],
   "source": [
    "from tensorflow.keras.preprocessing.image import ImageDataGenerator\n",
    "from tensorflow.keras.optimizers import Adam\n",
    "from tensorflow.keras.preprocessing.image import img_to_array\n",
    "from tensorflow.keras.utils import to_categorical, plot_model\n",
    "from tensorflow.keras.models import Sequential\n",
    "from tensorflow.keras.layers import BatchNormalization, Conv2D, MaxPooling2D, Activation, Flatten, Dropout, Dense\n",
    "from tensorflow.keras import backend as K\n",
    "from sklearn.model_selection import train_test_split\n",
    "import matplotlib.pyplot as plt\n",
    "import numpy as np\n",
    "import random\n",
    "import cv2\n",
    "import os\n",
    "import glob"
   ]
  },
  {
   "cell_type": "code",
   "execution_count": 15,
   "id": "04aa3588",
   "metadata": {},
   "outputs": [],
   "source": [
    "epochs = 100\n",
    "lr = 1e-3\n",
    "batch_size = 64\n",
    "img_dims = (96,96,3)\n",
    "\n",
    "data = []\n",
    "labels = []"
   ]
  },
  {
   "cell_type": "code",
   "execution_count": 17,
   "id": "1e52250b",
   "metadata": {},
   "outputs": [],
   "source": [
    "current_directory = os.getcwd()\n",
    "image_files = [f for f in glob.glob(os.path.join(current_directory, \"gender_dataset_face\", \"**\", \"*\"), recursive=True) if not os.path.isdir(f)]\n",
    "random.shuffle(image_files)"
   ]
  },
  {
   "cell_type": "code",
   "execution_count": 18,
   "id": "3164679f",
   "metadata": {},
   "outputs": [],
   "source": [
    "for img in image_files:\n",
    "\n",
    "    image = cv2.imread(img)\n",
    "    \n",
    "    image = cv2.resize(image, (img_dims[0],img_dims[1]))\n",
    "    image = img_to_array(image)\n",
    "    data.append(image)\n",
    "\n",
    "    label = img.split(os.path.sep)[-2]\n",
    "    if label == \"woman\":\n",
    "        label = 1\n",
    "    else:\n",
    "        label = 0\n",
    "        \n",
    "    labels.append([label]) \n"
   ]
  },
  {
   "cell_type": "code",
   "execution_count": 19,
   "id": "f32cd2a4",
   "metadata": {},
   "outputs": [],
   "source": [
    "# pre-processing\n",
    "data = np.array(data, dtype=\"float\") / 255.0\n",
    "labels = np.array(labels)"
   ]
  },
  {
   "cell_type": "code",
   "execution_count": 20,
   "id": "c9dfe33d",
   "metadata": {},
   "outputs": [],
   "source": [
    "# split dataset for training and validation\n",
    "(trainX, testX, trainY, testY) = train_test_split(data, labels, test_size=0.2,random_state=42)"
   ]
  },
  {
   "cell_type": "code",
   "execution_count": 21,
   "id": "3555c362",
   "metadata": {},
   "outputs": [],
   "source": [
    "trainY = to_categorical(trainY, num_classes=2) # [[1, 0], [0, 1], [0, 1], ...]\n",
    "testY = to_categorical(testY, num_classes=2)"
   ]
  },
  {
   "cell_type": "code",
   "execution_count": 22,
   "id": "0e7ff8f4",
   "metadata": {},
   "outputs": [],
   "source": [
    "aug = ImageDataGenerator(rotation_range=25, width_shift_range=0.1,height_shift_range=0.1, shear_range=0.2, zoom_range=0.2,\n",
    "                         horizontal_flip=True, fill_mode=\"nearest\")\n"
   ]
  },
  {
   "cell_type": "code",
   "execution_count": 23,
   "id": "e91f6202",
   "metadata": {},
   "outputs": [],
   "source": [
    "def build(width, height, depth, classes):\n",
    "    model = Sequential()\n",
    "    inputShape = (height, width, depth)\n",
    "    chanDim = -1\n",
    "\n",
    "    if K.image_data_format() == \"channels_first\":\n",
    "        inputShape = (depth, height, width)\n",
    "        chanDim = 1\n",
    "\n",
    "    model.add(Conv2D(32, (3,3), padding=\"same\", input_shape=inputShape))\n",
    "    model.add(Activation(\"relu\"))\n",
    "    model.add(BatchNormalization(axis=chanDim))\n",
    "    model.add(MaxPooling2D(pool_size=(3,3)))\n",
    "    model.add(Dropout(0.25))\n",
    "\n",
    "    model.add(Conv2D(64, (3,3), padding=\"same\"))\n",
    "    model.add(Activation(\"relu\"))\n",
    "    model.add(BatchNormalization(axis=chanDim))\n",
    "\n",
    "    model.add(Conv2D(64, (3,3), padding=\"same\"))\n",
    "    model.add(Activation(\"relu\"))\n",
    "    model.add(BatchNormalization(axis=chanDim))\n",
    "    model.add(MaxPooling2D(pool_size=(2,2)))\n",
    "    model.add(Dropout(0.25))\n",
    "\n",
    "    model.add(Conv2D(128, (3,3), padding=\"same\"))\n",
    "    model.add(Activation(\"relu\"))\n",
    "    model.add(BatchNormalization(axis=chanDim))\n",
    "\n",
    "    model.add(Conv2D(128, (3,3), padding=\"same\"))\n",
    "    model.add(Activation(\"relu\"))\n",
    "    model.add(BatchNormalization(axis=chanDim))\n",
    "    model.add(MaxPooling2D(pool_size=(2,2)))\n",
    "    model.add(Dropout(0.25))\n",
    "\n",
    "    model.add(Flatten())\n",
    "    model.add(Dense(1024))\n",
    "    model.add(Activation(\"relu\"))\n",
    "    model.add(BatchNormalization())\n",
    "    model.add(Dropout(0.5))\n",
    "\n",
    "    model.add(Dense(classes))\n",
    "    model.add(Activation(\"sigmoid\"))\n",
    "\n",
    "    return model"
   ]
  },
  {
   "cell_type": "code",
   "execution_count": 24,
   "id": "481bc69d",
   "metadata": {},
   "outputs": [],
   "source": [
    "model = build(width=img_dims[0], height=img_dims[1], depth=img_dims[2],\n",
    "                            classes=2)"
   ]
  },
  {
   "cell_type": "code",
   "execution_count": 26,
   "id": "a22db87f",
   "metadata": {},
   "outputs": [],
   "source": [
    "opt = Adam(learning_rate=lr, decay=lr/epochs)\n",
    "model.compile(loss=\"binary_crossentropy\", optimizer=opt, metrics=[\"accuracy\"])"
   ]
  },
  {
   "cell_type": "code",
   "execution_count": 27,
   "id": "1acd821a",
   "metadata": {},
   "outputs": [
    {
     "name": "stderr",
     "output_type": "stream",
     "text": [
      "<ipython-input-27-8084de6b303e>:1: UserWarning: `Model.fit_generator` is deprecated and will be removed in a future version. Please use `Model.fit`, which supports generators.\n",
      "  H = model.fit_generator(aug.flow(trainX, trainY, batch_size=batch_size),\n"
     ]
    },
    {
     "name": "stdout",
     "output_type": "stream",
     "text": [
      "Epoch 1/100\n",
      "28/28 [==============================] - 16s 323ms/step - loss: 0.8511 - accuracy: 0.7136 - val_loss: 0.6842 - val_accuracy: 0.5043\n",
      "Epoch 2/100\n",
      "28/28 [==============================] - 14s 485ms/step - loss: 0.5021 - accuracy: 0.8080 - val_loss: 0.6991 - val_accuracy: 0.5173\n",
      "Epoch 3/100\n",
      "28/28 [==============================] - 13s 469ms/step - loss: 0.3865 - accuracy: 0.8551 - val_loss: 0.6569 - val_accuracy: 0.6342\n",
      "Epoch 4/100\n",
      "28/28 [==============================] - 13s 472ms/step - loss: 0.3692 - accuracy: 0.8568 - val_loss: 1.4483 - val_accuracy: 0.4978\n",
      "Epoch 5/100\n",
      "28/28 [==============================] - 13s 468ms/step - loss: 0.3269 - accuracy: 0.8737 - val_loss: 1.1655 - val_accuracy: 0.4978\n",
      "Epoch 6/100\n",
      "28/28 [==============================] - 13s 469ms/step - loss: 0.3100 - accuracy: 0.8782 - val_loss: 0.9056 - val_accuracy: 0.4957\n",
      "Epoch 7/100\n",
      "28/28 [==============================] - 13s 469ms/step - loss: 0.2775 - accuracy: 0.8888 - val_loss: 0.8872 - val_accuracy: 0.5996\n",
      "Epoch 8/100\n",
      "28/28 [==============================] - 14s 490ms/step - loss: 0.2571 - accuracy: 0.9040 - val_loss: 0.9385 - val_accuracy: 0.6797\n",
      "Epoch 9/100\n",
      "28/28 [==============================] - 14s 474ms/step - loss: 0.2530 - accuracy: 0.9040 - val_loss: 0.5884 - val_accuracy: 0.6732\n",
      "Epoch 10/100\n",
      "28/28 [==============================] - 13s 467ms/step - loss: 0.2141 - accuracy: 0.9197 - val_loss: 0.5760 - val_accuracy: 0.6732\n",
      "Epoch 11/100\n",
      "28/28 [==============================] - 13s 468ms/step - loss: 0.2021 - accuracy: 0.9242 - val_loss: 0.7250 - val_accuracy: 0.5584\n",
      "Epoch 12/100\n",
      "28/28 [==============================] - 13s 467ms/step - loss: 0.1671 - accuracy: 0.9332 - val_loss: 0.8204 - val_accuracy: 0.5801\n",
      "Epoch 13/100\n",
      "28/28 [==============================] - 14s 474ms/step - loss: 0.1601 - accuracy: 0.9354 - val_loss: 1.0888 - val_accuracy: 0.5563\n",
      "Epoch 14/100\n",
      "28/28 [==============================] - 13s 467ms/step - loss: 0.1590 - accuracy: 0.9410 - val_loss: 0.3333 - val_accuracy: 0.8701\n",
      "Epoch 15/100\n",
      "28/28 [==============================] - 14s 486ms/step - loss: 0.1582 - accuracy: 0.9427 - val_loss: 0.2510 - val_accuracy: 0.8939\n",
      "Epoch 16/100\n",
      "28/28 [==============================] - 13s 466ms/step - loss: 0.1596 - accuracy: 0.9427 - val_loss: 0.2091 - val_accuracy: 0.9091\n",
      "Epoch 17/100\n",
      "28/28 [==============================] - 13s 467ms/step - loss: 0.1272 - accuracy: 0.9489 - val_loss: 0.1463 - val_accuracy: 0.9437\n",
      "Epoch 18/100\n",
      "28/28 [==============================] - 13s 468ms/step - loss: 0.1265 - accuracy: 0.9506 - val_loss: 0.1180 - val_accuracy: 0.9502\n",
      "Epoch 19/100\n",
      "28/28 [==============================] - 13s 467ms/step - loss: 0.1226 - accuracy: 0.9585 - val_loss: 0.1948 - val_accuracy: 0.9329\n",
      "Epoch 20/100\n",
      "28/28 [==============================] - 13s 469ms/step - loss: 0.1208 - accuracy: 0.9565 - val_loss: 0.2629 - val_accuracy: 0.9221\n",
      "Epoch 21/100\n",
      "28/28 [==============================] - 10s 336ms/step - loss: 0.1349 - accuracy: 0.9534 - val_loss: 0.1121 - val_accuracy: 0.9632\n",
      "Epoch 22/100\n",
      "28/28 [==============================] - 14s 484ms/step - loss: 0.1290 - accuracy: 0.9545 - val_loss: 0.1355 - val_accuracy: 0.9589\n",
      "Epoch 23/100\n",
      "28/28 [==============================] - 14s 477ms/step - loss: 0.0996 - accuracy: 0.9652 - val_loss: 0.3003 - val_accuracy: 0.9004\n",
      "Epoch 24/100\n",
      "28/28 [==============================] - 14s 475ms/step - loss: 0.1192 - accuracy: 0.9528 - val_loss: 0.1816 - val_accuracy: 0.9372\n",
      "Epoch 25/100\n",
      "28/28 [==============================] - 14s 475ms/step - loss: 0.0914 - accuracy: 0.9590 - val_loss: 0.1394 - val_accuracy: 0.9632\n",
      "Epoch 26/100\n",
      "28/28 [==============================] - 13s 450ms/step - loss: 0.0969 - accuracy: 0.9641 - val_loss: 0.1192 - val_accuracy: 0.9567\n",
      "Epoch 27/100\n",
      "28/28 [==============================] - 13s 452ms/step - loss: 0.1111 - accuracy: 0.9562 - val_loss: 0.1014 - val_accuracy: 0.9567\n",
      "Epoch 28/100\n",
      "28/28 [==============================] - 9s 305ms/step - loss: 0.1029 - accuracy: 0.9646 - val_loss: 0.2436 - val_accuracy: 0.9307\n",
      "Epoch 29/100\n",
      "28/28 [==============================] - 12s 409ms/step - loss: 0.1105 - accuracy: 0.9579 - val_loss: 0.1171 - val_accuracy: 0.9545\n",
      "Epoch 30/100\n",
      "28/28 [==============================] - 12s 442ms/step - loss: 0.0968 - accuracy: 0.9618 - val_loss: 0.2261 - val_accuracy: 0.9221\n",
      "Epoch 31/100\n",
      "28/28 [==============================] - 12s 433ms/step - loss: 0.0935 - accuracy: 0.9618 - val_loss: 0.1412 - val_accuracy: 0.9567\n",
      "Epoch 32/100\n",
      "28/28 [==============================] - 11s 376ms/step - loss: 0.1017 - accuracy: 0.9613 - val_loss: 0.3627 - val_accuracy: 0.8939\n",
      "Epoch 33/100\n",
      "28/28 [==============================] - 13s 441ms/step - loss: 0.0744 - accuracy: 0.9719 - val_loss: 0.2795 - val_accuracy: 0.9242\n",
      "Epoch 34/100\n",
      "28/28 [==============================] - 13s 452ms/step - loss: 0.0653 - accuracy: 0.9775 - val_loss: 0.1059 - val_accuracy: 0.9697\n",
      "Epoch 35/100\n",
      "28/28 [==============================] - 13s 465ms/step - loss: 0.0807 - accuracy: 0.9708 - val_loss: 0.0805 - val_accuracy: 0.9675\n",
      "Epoch 36/100\n",
      "28/28 [==============================] - 11s 368ms/step - loss: 0.0688 - accuracy: 0.9725 - val_loss: 0.6792 - val_accuracy: 0.8442\n",
      "Epoch 37/100\n",
      "28/28 [==============================] - 11s 376ms/step - loss: 0.0664 - accuracy: 0.9760 - val_loss: 0.1063 - val_accuracy: 0.9589\n",
      "Epoch 38/100\n",
      "28/28 [==============================] - 13s 465ms/step - loss: 0.0858 - accuracy: 0.9646 - val_loss: 0.2417 - val_accuracy: 0.9307\n",
      "Epoch 39/100\n",
      "28/28 [==============================] - 13s 468ms/step - loss: 0.0819 - accuracy: 0.9663 - val_loss: 0.1006 - val_accuracy: 0.9740\n",
      "Epoch 40/100\n",
      "28/28 [==============================] - 13s 465ms/step - loss: 0.0681 - accuracy: 0.9753 - val_loss: 0.0664 - val_accuracy: 0.9762\n",
      "Epoch 41/100\n",
      "28/28 [==============================] - 13s 467ms/step - loss: 0.0556 - accuracy: 0.9787 - val_loss: 0.0767 - val_accuracy: 0.9740\n",
      "Epoch 42/100\n",
      "28/28 [==============================] - 11s 365ms/step - loss: 0.0819 - accuracy: 0.9725 - val_loss: 0.2161 - val_accuracy: 0.9307\n",
      "Epoch 43/100\n",
      "28/28 [==============================] - 11s 374ms/step - loss: 0.0580 - accuracy: 0.9781 - val_loss: 0.1025 - val_accuracy: 0.9632\n",
      "Epoch 44/100\n",
      "28/28 [==============================] - 14s 473ms/step - loss: 0.0500 - accuracy: 0.9832 - val_loss: 0.2016 - val_accuracy: 0.9416\n",
      "Epoch 45/100\n",
      "28/28 [==============================] - 10s 354ms/step - loss: 0.0599 - accuracy: 0.9725 - val_loss: 0.1648 - val_accuracy: 0.9545\n",
      "Epoch 46/100\n",
      "28/28 [==============================] - 13s 458ms/step - loss: 0.0632 - accuracy: 0.9803 - val_loss: 0.1686 - val_accuracy: 0.9589\n",
      "Epoch 47/100\n",
      "28/28 [==============================] - 13s 438ms/step - loss: 0.0677 - accuracy: 0.9708 - val_loss: 0.4505 - val_accuracy: 0.8745\n",
      "Epoch 48/100\n",
      "28/28 [==============================] - 11s 378ms/step - loss: 0.0552 - accuracy: 0.9770 - val_loss: 0.0820 - val_accuracy: 0.9697\n",
      "Epoch 49/100\n",
      "28/28 [==============================] - 9s 331ms/step - loss: 0.0583 - accuracy: 0.9798 - val_loss: 0.1722 - val_accuracy: 0.9502\n",
      "Epoch 50/100\n",
      "28/28 [==============================] - 10s 333ms/step - loss: 0.0556 - accuracy: 0.9764 - val_loss: 0.2031 - val_accuracy: 0.9545\n",
      "Epoch 51/100\n",
      "28/28 [==============================] - 13s 469ms/step - loss: 0.0659 - accuracy: 0.9742 - val_loss: 0.1301 - val_accuracy: 0.9589\n",
      "Epoch 52/100\n",
      "28/28 [==============================] - 13s 470ms/step - loss: 0.0651 - accuracy: 0.9766 - val_loss: 0.1608 - val_accuracy: 0.9394\n",
      "Epoch 53/100\n",
      "28/28 [==============================] - 13s 466ms/step - loss: 0.0614 - accuracy: 0.9742 - val_loss: 0.0910 - val_accuracy: 0.9719\n",
      "Epoch 54/100\n",
      "28/28 [==============================] - 13s 468ms/step - loss: 0.0747 - accuracy: 0.9742 - val_loss: 0.1359 - val_accuracy: 0.9545\n",
      "Epoch 55/100\n",
      "28/28 [==============================] - 10s 347ms/step - loss: 0.0618 - accuracy: 0.9759 - val_loss: 0.1011 - val_accuracy: 0.9632\n",
      "Epoch 56/100\n",
      "28/28 [==============================] - 13s 468ms/step - loss: 0.0634 - accuracy: 0.9759 - val_loss: 0.1069 - val_accuracy: 0.9589\n",
      "Epoch 57/100\n"
     ]
    },
    {
     "name": "stdout",
     "output_type": "stream",
     "text": [
      "28/28 [==============================] - 9s 318ms/step - loss: 0.0554 - accuracy: 0.9775 - val_loss: 0.0961 - val_accuracy: 0.9740\n",
      "Epoch 58/100\n",
      "28/28 [==============================] - 11s 383ms/step - loss: 0.0595 - accuracy: 0.9753 - val_loss: 1.2758 - val_accuracy: 0.7186\n",
      "Epoch 59/100\n",
      "28/28 [==============================] - 8s 294ms/step - loss: 0.1034 - accuracy: 0.9646 - val_loss: 0.5482 - val_accuracy: 0.8745\n",
      "Epoch 60/100\n",
      "28/28 [==============================] - 9s 301ms/step - loss: 0.0890 - accuracy: 0.9669 - val_loss: 0.2629 - val_accuracy: 0.9221\n",
      "Epoch 61/100\n",
      "28/28 [==============================] - 8s 296ms/step - loss: 0.0712 - accuracy: 0.9736 - val_loss: 0.1544 - val_accuracy: 0.9524\n",
      "Epoch 62/100\n",
      "28/28 [==============================] - 9s 305ms/step - loss: 0.0810 - accuracy: 0.9669 - val_loss: 0.4326 - val_accuracy: 0.8939\n",
      "Epoch 63/100\n",
      "28/28 [==============================] - 9s 310ms/step - loss: 0.0711 - accuracy: 0.9714 - val_loss: 0.1974 - val_accuracy: 0.9437\n",
      "Epoch 64/100\n",
      "28/28 [==============================] - 9s 324ms/step - loss: 0.0612 - accuracy: 0.9787 - val_loss: 0.2276 - val_accuracy: 0.9351\n",
      "Epoch 65/100\n",
      "28/28 [==============================] - 9s 313ms/step - loss: 0.0595 - accuracy: 0.9719 - val_loss: 0.0933 - val_accuracy: 0.9697\n",
      "Epoch 66/100\n",
      "28/28 [==============================] - 13s 464ms/step - loss: 0.0453 - accuracy: 0.9860 - val_loss: 0.1188 - val_accuracy: 0.9675\n",
      "Epoch 67/100\n",
      "28/28 [==============================] - 12s 427ms/step - loss: 0.0661 - accuracy: 0.9730 - val_loss: 0.1000 - val_accuracy: 0.9784\n",
      "Epoch 68/100\n",
      "28/28 [==============================] - 10s 350ms/step - loss: 0.0416 - accuracy: 0.9848 - val_loss: 0.2984 - val_accuracy: 0.9091\n",
      "Epoch 69/100\n",
      "28/28 [==============================] - 9s 299ms/step - loss: 0.0537 - accuracy: 0.9775 - val_loss: 0.0740 - val_accuracy: 0.9805\n",
      "Epoch 70/100\n",
      "28/28 [==============================] - 8s 278ms/step - loss: 0.0552 - accuracy: 0.9832 - val_loss: 0.0835 - val_accuracy: 0.9740\n",
      "Epoch 71/100\n",
      "28/28 [==============================] - 9s 331ms/step - loss: 0.0508 - accuracy: 0.9815 - val_loss: 0.1146 - val_accuracy: 0.9632\n",
      "Epoch 72/100\n",
      "28/28 [==============================] - 8s 286ms/step - loss: 0.0415 - accuracy: 0.9854 - val_loss: 0.1750 - val_accuracy: 0.9437\n",
      "Epoch 73/100\n",
      "28/28 [==============================] - 8s 288ms/step - loss: 0.0556 - accuracy: 0.9809 - val_loss: 0.1617 - val_accuracy: 0.9481\n",
      "Epoch 74/100\n",
      "28/28 [==============================] - 10s 337ms/step - loss: 0.0506 - accuracy: 0.9809 - val_loss: 0.2234 - val_accuracy: 0.9459\n",
      "Epoch 75/100\n",
      "28/28 [==============================] - 8s 268ms/step - loss: 0.0515 - accuracy: 0.9792 - val_loss: 0.2600 - val_accuracy: 0.9351\n",
      "Epoch 76/100\n",
      "28/28 [==============================] - 9s 308ms/step - loss: 0.0508 - accuracy: 0.9809 - val_loss: 0.1032 - val_accuracy: 0.9697\n",
      "Epoch 77/100\n",
      "28/28 [==============================] - 10s 349ms/step - loss: 0.0545 - accuracy: 0.9792 - val_loss: 0.1120 - val_accuracy: 0.9740\n",
      "Epoch 78/100\n",
      "28/28 [==============================] - 8s 270ms/step - loss: 0.0455 - accuracy: 0.9860 - val_loss: 0.0839 - val_accuracy: 0.9719\n",
      "Epoch 79/100\n",
      "28/28 [==============================] - 11s 383ms/step - loss: 0.0378 - accuracy: 0.9860 - val_loss: 0.1585 - val_accuracy: 0.9459\n",
      "Epoch 80/100\n",
      "28/28 [==============================] - 11s 371ms/step - loss: 0.0468 - accuracy: 0.9837 - val_loss: 0.0831 - val_accuracy: 0.9632\n",
      "Epoch 81/100\n",
      "28/28 [==============================] - 11s 377ms/step - loss: 0.0510 - accuracy: 0.9826 - val_loss: 0.0849 - val_accuracy: 0.9762\n",
      "Epoch 82/100\n",
      "28/28 [==============================] - 11s 401ms/step - loss: 0.0376 - accuracy: 0.9893 - val_loss: 0.0633 - val_accuracy: 0.9784\n",
      "Epoch 83/100\n",
      "28/28 [==============================] - 9s 325ms/step - loss: 0.0625 - accuracy: 0.9747 - val_loss: 0.6547 - val_accuracy: 0.8203\n",
      "Epoch 84/100\n",
      "28/28 [==============================] - 9s 315ms/step - loss: 0.0628 - accuracy: 0.9736 - val_loss: 0.1637 - val_accuracy: 0.9459\n",
      "Epoch 85/100\n",
      "28/28 [==============================] - 11s 363ms/step - loss: 0.0446 - accuracy: 0.9843 - val_loss: 0.0926 - val_accuracy: 0.9675\n",
      "Epoch 86/100\n",
      "28/28 [==============================] - 12s 423ms/step - loss: 0.0558 - accuracy: 0.9798 - val_loss: 0.0917 - val_accuracy: 0.9675\n",
      "Epoch 87/100\n",
      "28/28 [==============================] - 9s 331ms/step - loss: 0.0527 - accuracy: 0.9803 - val_loss: 0.1951 - val_accuracy: 0.9372\n",
      "Epoch 88/100\n",
      "28/28 [==============================] - 11s 380ms/step - loss: 0.0563 - accuracy: 0.9815 - val_loss: 0.1935 - val_accuracy: 0.9416\n",
      "Epoch 89/100\n",
      "28/28 [==============================] - 10s 354ms/step - loss: 0.0324 - accuracy: 0.9882 - val_loss: 0.0734 - val_accuracy: 0.9784\n",
      "Epoch 90/100\n",
      "28/28 [==============================] - 10s 336ms/step - loss: 0.0351 - accuracy: 0.9871 - val_loss: 0.6154 - val_accuracy: 0.8485\n",
      "Epoch 91/100\n",
      "28/28 [==============================] - 14s 479ms/step - loss: 0.0545 - accuracy: 0.9792 - val_loss: 0.0925 - val_accuracy: 0.9719\n",
      "Epoch 92/100\n",
      "28/28 [==============================] - 13s 473ms/step - loss: 0.0444 - accuracy: 0.9865 - val_loss: 0.1007 - val_accuracy: 0.9740\n",
      "Epoch 93/100\n",
      "28/28 [==============================] - 9s 303ms/step - loss: 0.0422 - accuracy: 0.9876 - val_loss: 0.1005 - val_accuracy: 0.9719\n",
      "Epoch 94/100\n",
      "28/28 [==============================] - 13s 475ms/step - loss: 0.0395 - accuracy: 0.9826 - val_loss: 0.6689 - val_accuracy: 0.8398\n",
      "Epoch 95/100\n",
      "28/28 [==============================] - 13s 472ms/step - loss: 0.0321 - accuracy: 0.9910 - val_loss: 0.1090 - val_accuracy: 0.9654\n",
      "Epoch 96/100\n",
      "28/28 [==============================] - 10s 327ms/step - loss: 0.0302 - accuracy: 0.9865 - val_loss: 0.1023 - val_accuracy: 0.9719\n",
      "Epoch 97/100\n",
      "28/28 [==============================] - 13s 470ms/step - loss: 0.0261 - accuracy: 0.9888 - val_loss: 0.2777 - val_accuracy: 0.9372\n",
      "Epoch 98/100\n",
      "28/28 [==============================] - 13s 469ms/step - loss: 0.0530 - accuracy: 0.9775 - val_loss: 0.1810 - val_accuracy: 0.9481\n",
      "Epoch 99/100\n",
      "28/28 [==============================] - 13s 468ms/step - loss: 0.0383 - accuracy: 0.9843 - val_loss: 0.1581 - val_accuracy: 0.9589\n",
      "Epoch 100/100\n",
      "28/28 [==============================] - 13s 469ms/step - loss: 0.0316 - accuracy: 0.9837 - val_loss: 0.1728 - val_accuracy: 0.9524\n"
     ]
    }
   ],
   "source": [
    "H = model.fit_generator(aug.flow(trainX, trainY, batch_size=batch_size),\n",
    "                        validation_data=(testX,testY),\n",
    "                        steps_per_epoch=len(trainX) // batch_size,\n",
    "                        epochs=epochs, verbose=1)"
   ]
  },
  {
   "cell_type": "code",
   "execution_count": 14,
   "id": "a13e162d",
   "metadata": {},
   "outputs": [
    {
     "data": {
      "image/png": "[encoded data removed]",
      "text/plain": [
       "<Figure size 432x288 with 1 Axes>"
      ]
     },
     "metadata": {},
     "output_type": "display_data"
    }
   ],
   "source": [
    "plt.style.use(\"ggplot\")\n",
    "plt.figure()\n",
    "N = epochs\n",
    "plt.plot(np.arange(0, N), H.history[\"loss\"], label=\"train_loss\")\n",
    "plt.plot(np.arange(0, N), H.history[\"val_loss\"], label=\"val_loss\")\n",
    "plt.plot(np.arange(0, N), H.history[\"accuracy\"], label=\"train_accuracy\")\n",
    "plt.plot(np.arange(0, N), H.history[\"val_accuracy\"], label=\"val_accuracy\")\n",
    "plt.title(\"Training Loss and Accuracy\")\n",
    "plt.xlabel(\"Epoch #\")\n",
    "plt.ylabel(\"Loss/Accuracy\")\n",
    "plt.legend(loc=\"upper right\")\n",
    "\n",
    "plt.show()\n"
   ]
  },
  {
   "cell_type": "code",
   "execution_count": 28,
   "id": "a83ba647",
   "metadata": {},
   "outputs": [
    {
     "name": "stderr",
     "output_type": "stream",
     "text": [
      "WARNING:absl:Found untraced functions such as _jit_compiled_convolution_op, _jit_compiled_convolution_op, _jit_compiled_convolution_op, _jit_compiled_convolution_op, _jit_compiled_convolution_op while saving (showing 5 of 5). These functions will not be directly callable after loading.\n"
     ]
    },
    {
     "name": "stdout",
     "output_type": "stream",
     "text": [
      "INFO:tensorflow:Assets written to: gender_detection.model\\assets\n"
     ]
    },
    {
     "name": "stderr",
     "output_type": "stream",
     "text": [
      "INFO:tensorflow:Assets written to: gender_detection.model\\assets\n"
     ]
    }
   ],
   "source": [
    "model.save('gender_detection.model')"
   ]
  }
 ],
 "metadata": {
  "kernelspec": {
   "display_name": "Python 3",
   "language": "python",
   "name": "python3"
  },
  "language_info": {
   "codemirror_mode": {
    "name": "ipython",
    "version": 3
   },
   "file_extension": ".py",
   "mimetype": "text/x-python",
   "name": "python",
   "nbconvert_exporter": "python",
   "pygments_lexer": "ipython3",
   "version": "3.9.5"
  }
 },
 "nbformat": 4,
 "nbformat_minor": 5
}
